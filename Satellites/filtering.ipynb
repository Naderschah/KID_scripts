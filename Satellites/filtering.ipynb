{
 "cells": [
  {
   "cell_type": "code",
   "execution_count": 2,
   "metadata": {},
   "outputs": [],
   "source": [
    "import pandas as pd\n",
    "import numpy as np"
   ]
  },
  {
   "cell_type": "code",
   "execution_count": 4,
   "metadata": {},
   "outputs": [],
   "source": [
    "## Load excel database\n",
    "\n",
    "df = pd.read_excel('UCS-Satellite-Database.xls')\n",
    "\n",
    "# Drop all empty columns\n",
    "for i in df.columns:\n",
    "    if 'Unnamed' in i:\n",
    "        df.drop(i, axis=1, inplace=True)"
   ]
  },
  {
   "cell_type": "code",
   "execution_count": 8,
   "metadata": {},
   "outputs": [
    {
     "data": {
      "text/plain": [
       "array(['Earth Observation', 'Technology Development', 'Communications',\n",
       "       'Earth Science', 'Space Science',\n",
       "       'Space Science/Technology Demonstration',\n",
       "       'Communications/Technology Development',\n",
       "       'Communications/Maritime Tracking', 'Technology Demonstration',\n",
       "       'Unknown', 'Navigation/Global Positioning',\n",
       "       'Earth Observation/Technology Development', 'Signals Intelligence',\n",
       "       'Earth Observation ', 'Earth Observation/Communications',\n",
       "       'Earth/Space Observation', 'Educational',\n",
       "       'Earth Observation/Earth Science', 'Platform',\n",
       "       'Earth Observation/Space Science', 'Communications/Navigation',\n",
       "       'Space Observation', 'Surveillance',\n",
       "       'Navigation/Regional Positioning', 'Earth Observarion',\n",
       "       'Space Science/Technology Development',\n",
       "       'Mission Extension Technology', 'Earth Science/Earth Observation',\n",
       "       'Earth Observation/Communications/Space Science', 'Amateur Radio',\n",
       "       'Technology Development/Educational', 'Satellite Positioning', nan],\n",
       "      dtype=object)"
      ]
     },
     "execution_count": 8,
     "metadata": {},
     "output_type": "execute_result"
    }
   ],
   "source": [
    "df.Purpose.unique()"
   ]
  },
  {
   "cell_type": "markdown",
   "metadata": {},
   "source": [
    "From the ouput above I assume that the following types will be usefull"
   ]
  },
  {
   "cell_type": "code",
   "execution_count": 14,
   "metadata": {},
   "outputs": [],
   "source": [
    "useful = ['Earth Observation',\n",
    "          'Earth Science', \n",
    "          'Space Science',\n",
    "          'Unknown',\n",
    "          'Earth Observation/Technology Development',\n",
    "          'Earth Observation ',\n",
    "          'Earth Observation/Communications',\n",
    "          'Earth/Space Observation', \n",
    "          'Educational',\n",
    "          'Earth Observation/Earth Science',\n",
    "          'Earth Observation/Space Science',\n",
    "          'Space Observation', \n",
    "          'Surveillance',\n",
    "          'Earth Observarion',\n",
    "          'Space Science/Technology Development',\n",
    "          'Earth Science/Earth Observation',\n",
    "          'Earth Observation/Communications/Space Science',\n",
    "          'Technology Development/Educational',\n",
    "          None\n",
    "          ]\n",
    "\n",
    "df = df[df.Purpose.isin(useful)]"
   ]
  },
  {
   "cell_type": "code",
   "execution_count": 19,
   "metadata": {},
   "outputs": [
    {
     "data": {
      "text/plain": [
       "Index(['Name of Satellite, Alternate Names',\n",
       "       'Current Official Name of Satellite', 'Country/Org of UN Registry',\n",
       "       'Country of Operator/Owner', 'Operator/Owner', 'Users', 'Purpose',\n",
       "       'Detailed Purpose', 'Class of Orbit', 'Type of Orbit',\n",
       "       'Longitude of GEO (degrees)', 'Perigee (km)', 'Apogee (km)',\n",
       "       'Eccentricity', 'Inclination (degrees)', 'Period (minutes)',\n",
       "       'Launch Mass (kg.)', 'Dry Mass (kg.)', 'Power (watts)',\n",
       "       'Date of Launch', 'Expected Lifetime (yrs.)', 'Contractor',\n",
       "       'Country of Contractor', 'Launch Site', 'Launch Vehicle',\n",
       "       'COSPAR Number', 'NORAD Number', 'Comments',\n",
       "       'Source Used for Orbital Data', 'Source', 'Source.1', 'Source.2',\n",
       "       'Source.3', 'Source.4', 'Source.5', 'Source.6'],\n",
       "      dtype='object')"
      ]
     },
     "execution_count": 19,
     "metadata": {},
     "output_type": "execute_result"
    }
   ],
   "source": [
    "df.columns"
   ]
  },
  {
   "cell_type": "code",
   "execution_count": 25,
   "metadata": {},
   "outputs": [],
   "source": [
    "summary = df.loc[:,['Current Official Name of Satellite', 'Detailed Purpose', 'Date of Launch', 'Expected Lifetime (yrs.)','COSPAR Number', 'NORAD Number', 'Comments']]"
   ]
  },
  {
   "cell_type": "code",
   "execution_count": 26,
   "metadata": {},
   "outputs": [
    {
     "data": {
      "text/plain": [
       "1285"
      ]
     },
     "execution_count": 26,
     "metadata": {},
     "output_type": "execute_result"
    }
   ],
   "source": [
    "len(summary)"
   ]
  },
  {
   "cell_type": "code",
   "execution_count": null,
   "metadata": {},
   "outputs": [],
   "source": []
  }
 ],
 "metadata": {
  "kernelspec": {
   "display_name": "Python 3.9.12 ('base')",
   "language": "python",
   "name": "python3"
  },
  "language_info": {
   "codemirror_mode": {
    "name": "ipython",
    "version": 3
   },
   "file_extension": ".py",
   "mimetype": "text/x-python",
   "name": "python",
   "nbconvert_exporter": "python",
   "pygments_lexer": "ipython3",
   "version": "3.9.12"
  },
  "orig_nbformat": 4,
  "vscode": {
   "interpreter": {
    "hash": "265371ff1b98b9f4eaa16d44fb1eb5bb5e02f4557e1c68186d1d500959ccd159"
   }
  }
 },
 "nbformat": 4,
 "nbformat_minor": 2
}
